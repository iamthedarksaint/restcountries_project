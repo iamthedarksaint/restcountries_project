{
 "cells": [
  {
   "cell_type": "code",
   "execution_count": 6,
   "metadata": {},
   "outputs": [
    {
     "name": "stdout",
     "output_type": "stream",
     "text": [
      "Converting data to Json...\n"
     ]
    },
    {
     "data": {
      "text/html": [
       "<div>\n",
       "<style scoped>\n",
       "    .dataframe tbody tr th:only-of-type {\n",
       "        vertical-align: middle;\n",
       "    }\n",
       "\n",
       "    .dataframe tbody tr th {\n",
       "        vertical-align: top;\n",
       "    }\n",
       "\n",
       "    .dataframe thead th {\n",
       "        text-align: right;\n",
       "    }\n",
       "</style>\n",
       "<table border=\"1\" class=\"dataframe\">\n",
       "  <thead>\n",
       "    <tr style=\"text-align: right;\">\n",
       "      <th></th>\n",
       "      <th>country_name</th>\n",
       "      <th>independent</th>\n",
       "      <th>un_member</th>\n",
       "      <th>start_of_week</th>\n",
       "      <th>official_country_name</th>\n",
       "      <th>common_native_name</th>\n",
       "      <th>currency_code</th>\n",
       "      <th>currency_name</th>\n",
       "      <th>currency_symbol</th>\n",
       "      <th>idd_root</th>\n",
       "      <th>idd_suffixes</th>\n",
       "      <th>capital</th>\n",
       "      <th>region</th>\n",
       "      <th>sub_region</th>\n",
       "      <th>languages</th>\n",
       "      <th>area</th>\n",
       "      <th>population</th>\n",
       "      <th>continents</th>\n",
       "    </tr>\n",
       "  </thead>\n",
       "  <tbody>\n",
       "    <tr>\n",
       "      <th>0</th>\n",
       "      <td>South Georgia</td>\n",
       "      <td>False</td>\n",
       "      <td>False</td>\n",
       "      <td>monday</td>\n",
       "      <td>South Georgia and the South Sandwich Islands</td>\n",
       "      <td>[South Georgia]</td>\n",
       "      <td>[SHP]</td>\n",
       "      <td>[Saint Helena pound]</td>\n",
       "      <td>[£]</td>\n",
       "      <td>+5</td>\n",
       "      <td>[00]</td>\n",
       "      <td>[King Edward Point]</td>\n",
       "      <td>Antarctic</td>\n",
       "      <td></td>\n",
       "      <td>[English]</td>\n",
       "      <td>3903.0</td>\n",
       "      <td>30</td>\n",
       "      <td>[Antarctica]</td>\n",
       "    </tr>\n",
       "    <tr>\n",
       "      <th>1</th>\n",
       "      <td>Grenada</td>\n",
       "      <td>True</td>\n",
       "      <td>True</td>\n",
       "      <td>monday</td>\n",
       "      <td>Grenada</td>\n",
       "      <td>[Grenada]</td>\n",
       "      <td>[XCD]</td>\n",
       "      <td>[Eastern Caribbean dollar]</td>\n",
       "      <td>[$]</td>\n",
       "      <td>+1</td>\n",
       "      <td>[473]</td>\n",
       "      <td>[St. George's]</td>\n",
       "      <td>Americas</td>\n",
       "      <td>Caribbean</td>\n",
       "      <td>[English]</td>\n",
       "      <td>344.0</td>\n",
       "      <td>112519</td>\n",
       "      <td>[North America]</td>\n",
       "    </tr>\n",
       "    <tr>\n",
       "      <th>2</th>\n",
       "      <td>Switzerland</td>\n",
       "      <td>True</td>\n",
       "      <td>True</td>\n",
       "      <td>monday</td>\n",
       "      <td>Swiss Confederation</td>\n",
       "      <td>[Suisse, Schweiz, Svizzera, Svizra]</td>\n",
       "      <td>[CHF]</td>\n",
       "      <td>[Swiss franc]</td>\n",
       "      <td>[Fr.]</td>\n",
       "      <td>+4</td>\n",
       "      <td>[1]</td>\n",
       "      <td>[Bern]</td>\n",
       "      <td>Europe</td>\n",
       "      <td>Western Europe</td>\n",
       "      <td>[French, Swiss German, Italian, Romansh]</td>\n",
       "      <td>41284.0</td>\n",
       "      <td>8654622</td>\n",
       "      <td>[Europe]</td>\n",
       "    </tr>\n",
       "    <tr>\n",
       "      <th>3</th>\n",
       "      <td>Sierra Leone</td>\n",
       "      <td>True</td>\n",
       "      <td>True</td>\n",
       "      <td>monday</td>\n",
       "      <td>Republic of Sierra Leone</td>\n",
       "      <td>[Sierra Leone]</td>\n",
       "      <td>[SLL]</td>\n",
       "      <td>[Sierra Leonean leone]</td>\n",
       "      <td>[Le]</td>\n",
       "      <td>+2</td>\n",
       "      <td>[32]</td>\n",
       "      <td>[Freetown]</td>\n",
       "      <td>Africa</td>\n",
       "      <td>Western Africa</td>\n",
       "      <td>[English]</td>\n",
       "      <td>71740.0</td>\n",
       "      <td>7976985</td>\n",
       "      <td>[Africa]</td>\n",
       "    </tr>\n",
       "    <tr>\n",
       "      <th>4</th>\n",
       "      <td>Hungary</td>\n",
       "      <td>True</td>\n",
       "      <td>True</td>\n",
       "      <td>monday</td>\n",
       "      <td>Hungary</td>\n",
       "      <td>[Magyarország]</td>\n",
       "      <td>[HUF]</td>\n",
       "      <td>[Hungarian forint]</td>\n",
       "      <td>[Ft]</td>\n",
       "      <td>+3</td>\n",
       "      <td>[6]</td>\n",
       "      <td>[Budapest]</td>\n",
       "      <td>Europe</td>\n",
       "      <td>Central Europe</td>\n",
       "      <td>[Hungarian]</td>\n",
       "      <td>93028.0</td>\n",
       "      <td>9749763</td>\n",
       "      <td>[Europe]</td>\n",
       "    </tr>\n",
       "  </tbody>\n",
       "</table>\n",
       "</div>"
      ],
      "text/plain": [
       "    country_name independent  un_member start_of_week  \\\n",
       "0  South Georgia       False      False        monday   \n",
       "1        Grenada        True       True        monday   \n",
       "2    Switzerland        True       True        monday   \n",
       "3   Sierra Leone        True       True        monday   \n",
       "4        Hungary        True       True        monday   \n",
       "\n",
       "                          official_country_name  \\\n",
       "0  South Georgia and the South Sandwich Islands   \n",
       "1                                       Grenada   \n",
       "2                           Swiss Confederation   \n",
       "3                      Republic of Sierra Leone   \n",
       "4                                       Hungary   \n",
       "\n",
       "                    common_native_name currency_code  \\\n",
       "0                      [South Georgia]         [SHP]   \n",
       "1                            [Grenada]         [XCD]   \n",
       "2  [Suisse, Schweiz, Svizzera, Svizra]         [CHF]   \n",
       "3                       [Sierra Leone]         [SLL]   \n",
       "4                       [Magyarország]         [HUF]   \n",
       "\n",
       "                currency_name currency_symbol idd_root idd_suffixes  \\\n",
       "0        [Saint Helena pound]             [£]       +5         [00]   \n",
       "1  [Eastern Caribbean dollar]             [$]       +1        [473]   \n",
       "2               [Swiss franc]           [Fr.]       +4          [1]   \n",
       "3      [Sierra Leonean leone]            [Le]       +2         [32]   \n",
       "4          [Hungarian forint]            [Ft]       +3          [6]   \n",
       "\n",
       "               capital     region      sub_region  \\\n",
       "0  [King Edward Point]  Antarctic                   \n",
       "1       [St. George's]   Americas       Caribbean   \n",
       "2               [Bern]     Europe  Western Europe   \n",
       "3           [Freetown]     Africa  Western Africa   \n",
       "4           [Budapest]     Europe  Central Europe   \n",
       "\n",
       "                                  languages     area  population  \\\n",
       "0                                 [English]   3903.0          30   \n",
       "1                                 [English]    344.0      112519   \n",
       "2  [French, Swiss German, Italian, Romansh]  41284.0     8654622   \n",
       "3                                 [English]  71740.0     7976985   \n",
       "4                               [Hungarian]  93028.0     9749763   \n",
       "\n",
       "        continents  \n",
       "0     [Antarctica]  \n",
       "1  [North America]  \n",
       "2         [Europe]  \n",
       "3         [Africa]  \n",
       "4         [Europe]  "
      ]
     },
     "execution_count": 6,
     "metadata": {},
     "output_type": "execute_result"
    }
   ],
   "source": [
    "import sys\n",
    "from pathlib import Path\n",
    "import pandas as pd\n",
    "\n",
    "# Add the src directory to the system path\n",
    "module_path = Path.cwd().parent / 'src'\n",
    "sys.path.append(str(module_path))\n",
    "\n",
    "import main\n",
    "\n",
    "data = main.load()\n",
    "df = main.transform(data)\n",
    "df.head()\n",
    "\n"
   ]
  },
  {
   "cell_type": "code",
   "execution_count": 21,
   "metadata": {},
   "outputs": [
    {
     "data": {
      "text/plain": [
       "array([<class 'list'>], dtype=object)"
      ]
     },
     "execution_count": 21,
     "metadata": {},
     "output_type": "execute_result"
    }
   ],
   "source": [
    "df['currency_code'].apply(type).unique()\n",
    "\n"
   ]
  },
  {
   "cell_type": "code",
   "execution_count": 22,
   "metadata": {},
   "outputs": [
    {
     "name": "stdout",
     "output_type": "stream",
     "text": [
      "Number of coutries that speak French: 46\n"
     ]
    }
   ],
   "source": [
    "french_countries = df[df['languages'].apply(lambda x:  'French' in x) ]\n",
    "num_french_countries = french_countries.shape[0]\n",
    "print(f\"Number of coutries that speak French: {num_french_countries}\")"
   ]
  },
  {
   "cell_type": "code",
   "execution_count": 16,
   "metadata": {},
   "outputs": [
    {
     "name": "stdout",
     "output_type": "stream",
     "text": [
      "Number of countries that speak English: 91\n"
     ]
    }
   ],
   "source": [
    "english_countries = df[df['languages'].apply(lambda x: 'English' in x)]\n",
    "num_english_countries = english_countries.shape[0]\n",
    "print(f\"Number of countries that speak English: {num_english_countries}\")"
   ]
  },
  {
   "cell_type": "code",
   "execution_count": 17,
   "metadata": {},
   "outputs": [
    {
     "name": "stdout",
     "output_type": "stream",
     "text": [
      "Number of countries with more than one official language: 96\n"
     ]
    }
   ],
   "source": [
    "# Filter countries with more than one official language\n",
    "countries_with_multiple_languages = df[df['languages'].apply(lambda x: len(x) > 1)]\n",
    "\n",
    "# Count how many countries have more than one official language\n",
    "num_countries_multiple_languages = countries_with_multiple_languages.shape[0]\n",
    "\n",
    "print(f\"Number of countries with more than one official language: {num_countries_multiple_languages}\")\n"
   ]
  },
  {
   "cell_type": "code",
   "execution_count": 59,
   "metadata": {},
   "outputs": [
    {
     "name": "stdout",
     "output_type": "stream",
     "text": [
      "Number of countries with Euro as official currency: 36\n"
     ]
    }
   ],
   "source": [
    "euro_official_currency = df[df['currency_name'].apply(lambda x: 'Euro' in x)]\n",
    "num_euro_official_currency = euro_official_currency.shape[0]\n",
    "print(f\"Number of countries with Euro as official currency: {num_euro_official_currency}\")"
   ]
  },
  {
   "cell_type": "code",
   "execution_count": 27,
   "metadata": {},
   "outputs": [
    {
     "name": "stdout",
     "output_type": "stream",
     "text": [
      "Number of countries from West europe: (0, 18)\n"
     ]
    }
   ],
   "source": [
    "west_europe_countries = df[df['sub_region'] == 'west europe']\n",
    "num_west_europe_countries = west_europe_countries.shape\n",
    "print(f\"Number of countries from West europe: {num_west_europe_countries}\")"
   ]
  },
  {
   "cell_type": "code",
   "execution_count": 19,
   "metadata": {},
   "outputs": [],
   "source": [
    "df['independent'] = df['independent'].astype(bool)"
   ]
  },
  {
   "cell_type": "code",
   "execution_count": 24,
   "metadata": {},
   "outputs": [
    {
     "name": "stdout",
     "output_type": "stream",
     "text": [
      "Number of countries that are yet to gain independence: 56\n"
     ]
    }
   ],
   "source": [
    "not_yet_gained_independence = df[df['independent']==False]\n",
    "num_not_yet_gained_independence = not_yet_gained_independence.shape[0]\n",
    "print(f\"Number of countries that are yet to gain independence: {num_not_yet_gained_independence}\")"
   ]
  }
 ],
 "metadata": {
  "kernelspec": {
   "display_name": "venv",
   "language": "python",
   "name": "python3"
  },
  "language_info": {
   "codemirror_mode": {
    "name": "ipython",
    "version": 3
   },
   "file_extension": ".py",
   "mimetype": "text/x-python",
   "name": "python",
   "nbconvert_exporter": "python",
   "pygments_lexer": "ipython3",
   "version": "3.12.2"
  }
 },
 "nbformat": 4,
 "nbformat_minor": 2
}
